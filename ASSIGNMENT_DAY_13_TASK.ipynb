{
 "cells": [
  {
   "cell_type": "markdown",
   "id": "fcd08af1",
   "metadata": {},
   "source": [
    "# DAY 13\n",
    "\n",
    "## Q1) Write a Python Code to count the Number of Each Vowel in a given string"
   ]
  },
  {
   "cell_type": "code",
   "execution_count": 1,
   "id": "ec22d2be",
   "metadata": {},
   "outputs": [
    {
     "name": "stdout",
     "output_type": "stream",
     "text": [
      "Enter a string: TIyaSHa\n",
      "Number of each vowel in the string:\n",
      "a: 2\n",
      "e: 0\n",
      "i: 0\n",
      "o: 0\n",
      "u: 0\n",
      "A: 0\n",
      "E: 0\n",
      "I: 1\n",
      "O: 0\n",
      "U: 0\n"
     ]
    }
   ],
   "source": [
    "def count_vowels(string):\n",
    "    vowels = 'aeiouAEIOU'\n",
    "    vowel_counts = {vowel: 0 for vowel in vowels}\n",
    "\n",
    "    for char in string:\n",
    "        if char in vowels:\n",
    "            vowel_counts[char] += 1\n",
    "\n",
    "    return vowel_counts\n",
    "\n",
    "input_string = input(\"Enter a string: \")\n",
    "result = count_vowels(input_string)\n",
    "\n",
    "print(\"Number of each vowel in the string:\")\n",
    "for vowel, count in result.items():\n",
    "    print(f\"{vowel}: {count}\")\n"
   ]
  },
  {
   "cell_type": "markdown",
   "id": "6c9dbe9a",
   "metadata": {},
   "source": [
    "## Q2) Write a Python Code to count number of words, characters and number of spaces in a given stirng"
   ]
  },
  {
   "cell_type": "code",
   "execution_count": 3,
   "id": "ddb4fc7a",
   "metadata": {},
   "outputs": [
    {
     "name": "stdout",
     "output_type": "stream",
     "text": [
      "Enter a string: YasE BgBGFhytf\n",
      "Number of words: 2\n",
      "Number of characters: 14\n",
      "Number of spaces: 1\n"
     ]
    }
   ],
   "source": [
    "def count_words_chars_spaces(string):\n",
    "    words = string.split()\n",
    "    word_count = len(words)\n",
    "    char_count = len(string)\n",
    "    space_count = string.count(' ')\n",
    "\n",
    "    return word_count, char_count, space_count\n",
    "\n",
    "input_string = input(\"Enter a string: \")\n",
    "word_count, char_count, space_count = count_words_chars_spaces(input_string)\n",
    "\n",
    "print(\"Number of words:\", word_count)\n",
    "print(\"Number of characters:\", char_count)\n",
    "print(\"Number of spaces:\", space_count)"
   ]
  },
  {
   "cell_type": "markdown",
   "id": "abe24430",
   "metadata": {},
   "source": [
    "## Q3) Write a Python Program to remove punctuation from a given string (using loop)"
   ]
  },
  {
   "cell_type": "code",
   "execution_count": 4,
   "id": "ea870bc0",
   "metadata": {},
   "outputs": [
    {
     "name": "stdout",
     "output_type": "stream",
     "text": [
      "Enter a string: tgr425#$\n",
      "String after removing punctuation: tgr425\n"
     ]
    }
   ],
   "source": [
    "def remove_punctuation(string):\n",
    "    punctuations = '''!()-[]{};:'\"\\,<>./?@#$%^&*_~'''\n",
    "    result = \"\"\n",
    "    for char in string:\n",
    "        if char not in punctuations:\n",
    "            result += char\n",
    "\n",
    "    return result\n",
    "\n",
    "input_string = input(\"Enter a string: \")\n",
    "processed_string = remove_punctuation(input_string)\n",
    "\n",
    "print(\"String after removing punctuation:\", processed_string)\n"
   ]
  },
  {
   "cell_type": "markdown",
   "id": "a9ba56cf",
   "metadata": {},
   "source": [
    "## Q4) Write a Python Program to take a mxn matrix input from user and stored in nested list"
   ]
  },
  {
   "cell_type": "code",
   "execution_count": 8,
   "id": "82db6d5b",
   "metadata": {},
   "outputs": [
    {
     "name": "stdout",
     "output_type": "stream",
     "text": [
      "Enter the number of rows: 2\n",
      "Enter the number of columns: 2\n",
      "Enter the elements of the matrix:\n",
      "Enter element at position (1, 1): 12\n",
      "Enter element at position (1, 2): 23\n",
      "Enter element at position (2, 1): 34\n",
      "Enter element at position (2, 2): 45\n",
      "Matrix:\n",
      "[12, 23]\n",
      "[34, 45]\n"
     ]
    }
   ],
   "source": [
    "def take_matrix_input(rows, cols):\n",
    "    matrix = []\n",
    "    print(\"Enter the elements of the matrix:\")\n",
    "\n",
    "    for i in range(rows):\n",
    "        row = []\n",
    "        for j in range(cols):\n",
    "            element = int(input(f\"Enter element at position ({i+1}, {j+1}): \"))\n",
    "            row.append(element)\n",
    "        matrix.append(row)\n",
    "\n",
    "    return matrix\n",
    "rows = int(input(\"Enter the number of rows: \"))\n",
    "cols = int(input(\"Enter the number of columns: \"))\n",
    "matrix = take_matrix_input(rows, cols)\n",
    "\n",
    "print(\"Matrix:\")\n",
    "for row in matrix:\n",
    "    print(row)\n"
   ]
  },
  {
   "cell_type": "markdown",
   "id": "4604662d",
   "metadata": {},
   "source": [
    "## Q5) Write a Python Program to add, multiply and transpose two matrices given by user"
   ]
  },
  {
   "cell_type": "code",
   "execution_count": 11,
   "id": "43338aa1",
   "metadata": {},
   "outputs": [
    {
     "name": "stdout",
     "output_type": "stream",
     "text": [
      "Enter the number of rows for Matrix 1: 2\n",
      "Enter the number of columns for Matrix 1: 1\n",
      "Enter the number of rows for Matrix 2: 2\n",
      "Enter the number of columns for Matrix 2: 1\n",
      "Enter elements for Matrix 1:\n",
      "Enter the elements of the matrix:\n",
      "Enter element at position (1, 1): 12\n",
      "Enter element at position (2, 1): 23\n",
      "Enter elements for Matrix 2:\n",
      "Enter the elements of the matrix:\n",
      "Enter element at position (1, 1): 34\n",
      "Enter element at position (2, 1): 45\n",
      "Matrix Addition Result:\n",
      "[46]\n",
      "[68]\n",
      "Matrices cannot be multiplied due to incompatible dimensions.\n",
      "Transpose of Matrix 1:\n",
      "[12, 23]\n",
      "Transpose of Matrix 2:\n",
      "[34, 45]\n"
     ]
    }
   ],
   "source": [
    "def take_matrix_input(rows, cols):\n",
    "    matrix = []\n",
    "    print(\"Enter the elements of the matrix:\")\n",
    "\n",
    "    for i in range(rows):\n",
    "        row = []\n",
    "        for j in range(cols):\n",
    "            element = int(input(f\"Enter element at position ({i+1}, {j+1}): \"))\n",
    "            row.append(element)\n",
    "        matrix.append(row)\n",
    "\n",
    "    return matrix\n",
    "\n",
    "def add_matrices(matrix1, matrix2):\n",
    "    result = []\n",
    "    for i in range(len(matrix1)):\n",
    "        row = []\n",
    "        for j in range(len(matrix1[0])):\n",
    "            row.append(matrix1[i][j] + matrix2[i][j])\n",
    "        result.append(row)\n",
    "\n",
    "    return result\n",
    "\n",
    "def multiply_matrices(matrix1, matrix2):\n",
    "    result = []\n",
    "    for i in range(len(matrix1)):\n",
    "        row = []\n",
    "        for j in range(len(matrix2[0])):\n",
    "            element = 0\n",
    "            for k in range(len(matrix2)):\n",
    "                element += matrix1[i][k] * matrix2[k][j]\n",
    "            row.append(element)\n",
    "        result.append(row)\n",
    "\n",
    "    return result\n",
    "\n",
    "def transpose_matrix(matrix):\n",
    "    result = []\n",
    "    for j in range(len(matrix[0])):\n",
    "        row = []\n",
    "        for i in range(len(matrix)):\n",
    "            row.append(matrix[i][j])\n",
    "        result.append(row)\n",
    "\n",
    "    return result\n",
    "rows1 = int(input(\"Enter the number of rows for Matrix 1: \"))\n",
    "cols1 = int(input(\"Enter the number of columns for Matrix 1: \"))\n",
    "rows2 = int(input(\"Enter the number of rows for Matrix 2: \"))\n",
    "cols2 = int(input(\"Enter the number of columns for Matrix 2: \"))\n",
    "\n",
    "print(\"Enter elements for Matrix 1:\")\n",
    "matrix1 = take_matrix_input(rows1, cols1)\n",
    "\n",
    "print(\"Enter elements for Matrix 2:\")\n",
    "matrix2 = take_matrix_input(rows2, cols2)\n",
    "\n",
    "if rows1 == rows2 and cols1 == cols2:\n",
    "    addition_result = add_matrices(matrix1, matrix2)\n",
    "    print(\"Matrix Addition Result:\")\n",
    "    for row in addition_result:\n",
    "        print(row)\n",
    "else:\n",
    "    print(\"Matrices cannot be added due to different dimensions.\")\n",
    "\n",
    "if cols1 == rows2:\n",
    "    multiplication_result = multiply_matrices(matrix1, matrix2)\n",
    "    print(\"Matrix Multiplication Result:\")\n",
    "    for row in multiplication_result:\n",
    "        print(row)\n",
    "else:\n",
    "    print(\"Matrices cannot be multiplied due to incompatible dimensions.\")\n",
    "\n",
    "transpose_result1 = transpose_matrix(matrix1)\n",
    "print(\"Transpose of Matrix 1:\")\n",
    "for row in transpose_result1:\n",
    "    print(row)\n",
    "\n",
    "transpose_result2 = transpose_matrix(matrix2)\n",
    "print(\"Transpose of Matrix 2:\")\n",
    "for row in transpose_result2:\n",
    "    print(row)\n"
   ]
  },
  {
   "cell_type": "code",
   "execution_count": null,
   "id": "93ee6b5b",
   "metadata": {},
   "outputs": [],
   "source": []
  }
 ],
 "metadata": {
  "kernelspec": {
   "display_name": "Python 3 (ipykernel)",
   "language": "python",
   "name": "python3"
  },
  "language_info": {
   "codemirror_mode": {
    "name": "ipython",
    "version": 3
   },
   "file_extension": ".py",
   "mimetype": "text/x-python",
   "name": "python",
   "nbconvert_exporter": "python",
   "pygments_lexer": "ipython3",
   "version": "3.10.9"
  }
 },
 "nbformat": 4,
 "nbformat_minor": 5
}
