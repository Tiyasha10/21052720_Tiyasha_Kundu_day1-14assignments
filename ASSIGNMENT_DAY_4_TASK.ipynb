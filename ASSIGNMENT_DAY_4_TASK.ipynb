{
 "cells": [
  {
   "cell_type": "markdown",
   "id": "6ff637c1",
   "metadata": {},
   "source": [
    "# DAY 4\n",
    "\n",
    "## Q1) Explore split, strip, replace, center, title methods of string data type in python."
   ]
  },
  {
   "cell_type": "code",
   "execution_count": 10,
   "id": "8f822b08",
   "metadata": {},
   "outputs": [
    {
     "name": "stdout",
     "output_type": "stream",
     "text": [
      "['Hello,', 'I', 'am', 'Tiyasha.']\n",
      "Hello, I am Tiyasha.\n",
      "Hi, Python!\n",
      "---Tiyasha---\n",
      "Nice To Learn Python\n"
     ]
    }
   ],
   "source": [
    "text1 = \"Hello, I am Tiyasha.\"\n",
    "print(text1.split())\n",
    "\n",
    "text2 = \"   Hello, I am Tiyasha.    \"\n",
    "print(text2.strip())\n",
    "\n",
    "text3= \"Hi, World!\"\n",
    "print(text3.replace(\"World\", \"Python\"))\n",
    "\n",
    "text4 = \"Tiyasha\"\n",
    "print(text4.center(13, \"-\"))\n",
    "\n",
    "text5 = \"nice to learn python\"\n",
    "print(text5.title())\n",
    "\n"
   ]
  },
  {
   "cell_type": "markdown",
   "id": "b7fdbdc0",
   "metadata": {},
   "source": [
    "## Q2) Explore append, pop, remove, sort methods of list data type"
   ]
  },
  {
   "cell_type": "code",
   "execution_count": 6,
   "id": "7d0f633e",
   "metadata": {},
   "outputs": [
    {
     "name": "stdout",
     "output_type": "stream",
     "text": [
      "['RIYA', 'KOEL', 'ASMITA', 'HIA']\n",
      "['KOEL', 'ASMITA', 'HIA']\n",
      "['KOEL', 'ASMITA']\n",
      "['ASMITA', 'KOEL']\n"
     ]
    }
   ],
   "source": [
    "names = ['RIYA','KOEL','ASMITA']\n",
    "names.append('HIA')\n",
    "print(names)\n",
    "names.remove('RIYA')\n",
    "print(names)\n",
    "names.pop()\n",
    "print(names)\n",
    "names.sort()\n",
    "print(names)\n"
   ]
  },
  {
   "cell_type": "markdown",
   "id": "cd58a3b5",
   "metadata": {},
   "source": [
    "## Q3) Create 5 real time lists to store some useful information in python eg. Language = [ ‘java’, ‘c’, ‘c++’, ‘ruby’ ]"
   ]
  },
  {
   "cell_type": "code",
   "execution_count": 13,
   "id": "c42d7787",
   "metadata": {},
   "outputs": [
    {
     "name": "stdout",
     "output_type": "stream",
     "text": [
      "['C', 'C++', 'Java', 'Ruby']\n",
      "['INDIA', 'IRAN', 'NIGERIA', 'UK']\n",
      "['Apple', 'Banana', 'Grapes', 'Mango']\n",
      "['Black', 'Blue', 'Green', 'Peach']\n",
      "['Bangalore', 'Delhi', 'Kolata', 'Lucknow']\n"
     ]
    }
   ],
   "source": [
    "language = ['Java', 'C', 'C++', 'Ruby']\n",
    "countries = ['UK', 'IRAN', 'INDIA', 'NIGERIA']\n",
    "fruits = ['Grapes', 'Apple', 'Mango', 'Banana']\n",
    "colours = ['Green', 'Blue', 'Peach','Black']\n",
    "cities = ['Kolata', 'Delhi', 'Bangalore','Lucknow']\n",
    "language.sort()\n",
    "print(language)\n",
    "countries.sort()\n",
    "print(countries)\n",
    "fruits.sort()\n",
    "print(fruits)\n",
    "colours.sort()\n",
    "print(colours)\n",
    "cities.sort()\n",
    "print(cities)"
   ]
  },
  {
   "cell_type": "markdown",
   "id": "f0235bbc",
   "metadata": {},
   "source": [
    "## Q4) What is difference between mutable and immutable data types in python.\n",
    "\n",
    "#### Mutable\n",
    "\n",
    "- Mutable data types are those whose values can be changed after they are assigned.\n",
    "- You can modify mutable objects directly without creating a new object.\n",
    "- Examples of mutable data types in Python include lists (list), dictionaries (dict), and sets (set).\n",
    "\n",
    "Example-"
   ]
  },
  {
   "cell_type": "code",
   "execution_count": 14,
   "id": "b4930b26",
   "metadata": {},
   "outputs": [
    {
     "name": "stdout",
     "output_type": "stream",
     "text": [
      "[1, 2, 3, 4]\n"
     ]
    }
   ],
   "source": [
    "my_list = [1, 2, 3]\n",
    "my_list.append(4)\n",
    "print(my_list)  "
   ]
  },
  {
   "cell_type": "markdown",
   "id": "3b522e54",
   "metadata": {},
   "source": [
    "#### Immutable Data Types:\n",
    "- Immutable data types cannot be modified after they are created.\n",
    "- When an immutable object is modified, a new object is created with the modified value and a different memory location.\n",
    "- Examples of immutable data types in Python include strings, numbers (integers, floats), and tuples.\n",
    "\n",
    "Example"
   ]
  },
  {
   "cell_type": "code",
   "execution_count": 15,
   "id": "c8676cf2",
   "metadata": {},
   "outputs": [
    {
     "name": "stdout",
     "output_type": "stream",
     "text": [
      "Hello World\n"
     ]
    }
   ],
   "source": [
    "my_string = \"Hello\"\n",
    "new_string = my_string + \" World\"\n",
    "print(new_string)"
   ]
  },
  {
   "cell_type": "markdown",
   "id": "5263a8ac",
   "metadata": {},
   "source": [
    "The distinction between mutable and immutable data types is important because it affects how these objects behave in terms of assignment, modification, and memory usage. Immutable data types are useful for situations where you want to ensure that the value of an object cannot be changed once it is assigned, while mutable data types allow for flexibility in modifying and updating data structures."
   ]
  },
  {
   "cell_type": "markdown",
   "id": "42aaf1d6",
   "metadata": {},
   "source": [
    "## Q5) What are identifiers, list rules of identifiers in python.\n",
    "\n",
    "Identifiers in Python are names used to identify variables, functions, classes, modules, or any other user-defined objects. They are used to give a unique name to these entities, making it easier to refer to them in the code.\n",
    "\n",
    "Here are the rules for defining identifiers in Python.\n",
    "\n",
    "- Valid Characters\n",
    "- Case-Sensitivity\n",
    "- Reserved Words\n",
    "- Length Limit\n",
    "- Naming Convention"
   ]
  },
  {
   "cell_type": "code",
   "execution_count": null,
   "id": "f86f3a03",
   "metadata": {},
   "outputs": [],
   "source": []
  }
 ],
 "metadata": {
  "kernelspec": {
   "display_name": "Python 3 (ipykernel)",
   "language": "python",
   "name": "python3"
  },
  "language_info": {
   "codemirror_mode": {
    "name": "ipython",
    "version": 3
   },
   "file_extension": ".py",
   "mimetype": "text/x-python",
   "name": "python",
   "nbconvert_exporter": "python",
   "pygments_lexer": "ipython3",
   "version": "3.10.9"
  }
 },
 "nbformat": 4,
 "nbformat_minor": 5
}
