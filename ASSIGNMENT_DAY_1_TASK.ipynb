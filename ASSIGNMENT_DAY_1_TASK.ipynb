{
 "cells": [
  {
   "cell_type": "markdown",
   "id": "98aec049",
   "metadata": {},
   "source": [
    "# DAY 1\n",
    "\n",
    "\n",
    "# 1. Install Python on your Local Operating System \n",
    "\n",
    "   a. https://youtu.be/M5ILgNI0iXw (python installation) \n",
    "\n",
    "   b. https://youtu.be/SBOFnzVuzOE (vim Editor) \n",
    "\n",
    " "
   ]
  },
  {
   "cell_type": "markdown",
   "id": "b8fda2db",
   "metadata": {},
   "source": [
    "# 2. List Some Mega Projects hosted in Python \n",
    "\n",
    "a.Database Projects: Management Systems (Library, Hotel, Hospital, School) \n",
    "\n",
    "b.ML Projects: Classification \n",
    "\n",
    "c.AI Projects: Chatbots, face detection and recognition, speech recognition, Security \n",
    "\n",
    "d.Data Science Projects: Global Terrorism Analysis, Call Data Record Analysis "
   ]
  },
  {
   "cell_type": "markdown",
   "id": "16e4cb3f",
   "metadata": {},
   "source": [
    "# 3.List Python Libraries Used in Different IT Domains \n",
    "\n",
    "   Pandas, numpy, matplotlib, tkinter, sklearn, tensorflow \n",
    "\n",
    " "
   ]
  },
  {
   "cell_type": "code",
   "execution_count": 3,
   "id": "70ca9146",
   "metadata": {},
   "outputs": [
    {
     "name": "stdout",
     "output_type": "stream",
     "text": [
      "Hello world\n",
      "sum is:  50\n"
     ]
    }
   ],
   "source": [
    "#Create a Program and execute a script in Python  \n",
    "\n",
    "print(\"Hello world\") \n",
    "\n",
    "a = 45 \n",
    "\n",
    "b = 5 \n",
    "\n",
    "c = a+b \n",
    "\n",
    "print(\"sum is: \", c)"
   ]
  },
  {
   "cell_type": "code",
   "execution_count": null,
   "id": "7837035d",
   "metadata": {},
   "outputs": [],
   "source": []
  }
 ],
 "metadata": {
  "kernelspec": {
   "display_name": "Python 3 (ipykernel)",
   "language": "python",
   "name": "python3"
  },
  "language_info": {
   "codemirror_mode": {
    "name": "ipython",
    "version": 3
   },
   "file_extension": ".py",
   "mimetype": "text/x-python",
   "name": "python",
   "nbconvert_exporter": "python",
   "pygments_lexer": "ipython3",
   "version": "3.10.9"
  }
 },
 "nbformat": 4,
 "nbformat_minor": 5
}
