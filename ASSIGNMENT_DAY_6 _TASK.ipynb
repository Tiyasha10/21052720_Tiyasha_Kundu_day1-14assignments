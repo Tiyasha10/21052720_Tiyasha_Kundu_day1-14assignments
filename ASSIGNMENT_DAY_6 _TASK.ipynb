{
 "cells": [
  {
   "cell_type": "markdown",
   "id": "886b861f",
   "metadata": {},
   "source": [
    "# DAY 6\n",
    "\n",
    "## Q1)Write down 10 projects ideas you want to implement using python"
   ]
  },
  {
   "cell_type": "markdown",
   "id": "15cba1f9",
   "metadata": {},
   "source": [
    "1. Fingerprint sensor\n",
    "2. Timeline Analysis\n",
    "3. Fun Quize Games\n",
    "4. Network Analysis\n",
    "5. Movie Recommendation System\n",
    "6. Food Nutrition App\n",
    "7. Patient Health Chart Sheet\n",
    "8. Traffic Light Regulation\n",
    "9. Developing Chatbot\n",
    "10. Automation and Scripting"
   ]
  },
  {
   "cell_type": "markdown",
   "id": "c107e002",
   "metadata": {},
   "source": [
    "## Q2) Create at list 5 objects using list, dictionary, it will be good if you store realistic data."
   ]
  },
  {
   "cell_type": "code",
   "execution_count": 2,
   "id": "58146502",
   "metadata": {},
   "outputs": [
    {
     "name": "stdout",
     "output_type": "stream",
     "text": [
      "\n"
     ]
    }
   ],
   "source": [
    "student=[\n",
    "    {\n",
    "        'name':'Asmita Das',\n",
    "        'age':19,\n",
    "        'id':22321344\n",
    "    },\n",
    "    {\n",
    "        'name':'yashmin',\n",
    "        'age':18,\n",
    "        'id':22322180\n",
    "    }\n",
    "]\n",
    "books = [\n",
    "    {'title': 'The Kite Runner','author': 'Khaled Hosseine','genre': 'Literary Fiction','year': 2003\n",
    "    },\n",
    "    {'title': 'To Kill a Mockingbird','author': 'Harper Lee','genre': 'Fiction','year': 1960\n",
    "    },\n",
    "    \n",
    "]\n",
    "countries = [\n",
    "    {'name': 'United States','population': 331002651,'capital': 'Washington, D.C.','language': 'English'\n",
    "    },\n",
    "    {'name': 'France','population': 65273511,'capital': 'Paris','language': 'French'\n",
    "    }\n",
    "]\n",
    "courses = [\n",
    "    \n",
    "    {\n",
    "        'course_id': 'CS569',\n",
    "        'course_name': 'Data Structures and Algorithms',\n",
    "        'instructor': 'Prof. Jane Doe',\n",
    "        'credits': 4,\n",
    "        'semester': 'Spring 2024',\n",
    "        'description': 'A comprehensive study of data structures and algorithms, focusing on their implementation, analysis, and application in solving complex problems.'\n",
    "    },\n",
    "    {\n",
    "        'course_id': 'CS191',\n",
    "        'course_name': 'Introduction to Computer Science',\n",
    "        'instructor': 'Dr. John Smith',\n",
    "        'credits': 3,\n",
    "        'semester': 'Autum 2023',\n",
    "        'description': 'An introductory course covering the basics of computer science, including programming fundamentals, algorithms, and problem-solving.'\n",
    "    },\n",
    "]\n",
    "movies = [\n",
    "    {\n",
    "        'title': '3 Idiots',\n",
    "        'year': 2009,\n",
    "        'director': 'Rajkumar Hirani',\n",
    "        'actors': ['Aamir Khan', 'Kareena Kapoor', 'R. Madhavan'],\n",
    "        'genre': ['Comedy', 'Drama'],\n",
    "        'rating': 8.4\n",
    "    },\n",
    "    {\n",
    "        'title': 'Orphen',\n",
    "        'year': 2009,\n",
    "        'director': 'Rajkumar Hirani',\n",
    "        'actors': ['Isabelle Fuhrman', 'Vera Farminga', 'Aryana Engineer','Peter Sarsgaard','Jimmy Bennett'],\n",
    "        'genre': ['Comedy', 'Drama'],\n",
    "        'rating': 8.4\n",
    "    }\n",
    "]\n"
   ]
  },
  {
   "cell_type": "markdown",
   "id": "059b284d",
   "metadata": {},
   "source": [
    "## Q3) What is duck typing in python, what are Dunder or special methods?\n",
    "\n",
    "#### Duck Typing:\n",
    "\n",
    "Duck typing is a programming concept in Python that focuses on the behavior of an object rather than its specific type or class.\n",
    "In Python, this means that the suitability of an object for a particular operation is determined by whether the object supports the required behavior, rather than its explicit type.\n",
    "For example, if an object can perform the necessary methods or operations expected of it, it can be considered suitable for a given context, regardless of its actual class or type.\n",
    "\n",
    "#### Dunder (Double Under) or Special Methods:\n",
    "\n",
    "Dunder methods, also known as special methods or magic methods, are predefined methods in Python that have double underscores (underscores both at the beginning and end of the method name).\n",
    "These special methods allow classes to define or customize various built-in behaviors and operations.\n",
    "For example, the init method is a special method used to initialize an object when it is created.\n",
    "\n",
    "## Q4) What are operators? How many types of operators are there in python?\n",
    "\n",
    "Operators are symbols or special characters that perform operations on one or more operands (values or variables). Operators allow you to manipulate data and perform computations in your code.\n",
    "\n",
    "#### Mainly there are 7 types of operators in python\n",
    "\n",
    "Arithmetic Operators,\n",
    "Assignment Operators,\n",
    "Comparison Operators,\n",
    "Logical Operators,\n",
    "Bitwise Operators,\n",
    "Membership Operators,\n",
    "Identity Operators,\n"
   ]
  },
  {
   "cell_type": "code",
   "execution_count": null,
   "id": "bd6eabe7",
   "metadata": {},
   "outputs": [],
   "source": []
  }
 ],
 "metadata": {
  "kernelspec": {
   "display_name": "Python 3 (ipykernel)",
   "language": "python",
   "name": "python3"
  },
  "language_info": {
   "codemirror_mode": {
    "name": "ipython",
    "version": 3
   },
   "file_extension": ".py",
   "mimetype": "text/x-python",
   "name": "python",
   "nbconvert_exporter": "python",
   "pygments_lexer": "ipython3",
   "version": "3.10.9"
  }
 },
 "nbformat": 4,
 "nbformat_minor": 5
}
