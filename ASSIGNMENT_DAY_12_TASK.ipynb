{
 "cells": [
  {
   "cell_type": "markdown",
   "id": "dd7f428c",
   "metadata": {},
   "source": [
    "# DAY 12"
   ]
  },
  {
   "cell_type": "code",
   "execution_count": 3,
   "id": "af2b85ed",
   "metadata": {},
   "outputs": [
    {
     "name": "stdout",
     "output_type": "stream",
     "text": [
      "select the number[1-50] ,5 chances left! 45\n",
      "Think of a low number\n",
      "select the number[1-50] ,4 chances left! 35\n",
      "Think of higher number\n",
      "select the number[1-50] ,3 chances left! 40\n",
      "You guessed the number\n",
      "The number is :40\n"
     ]
    }
   ],
   "source": [
    "import random\n",
    "\n",
    "random_number = random.randint(1, 50)\n",
    "ch=0\n",
    "correct=random_number\n",
    "guess=0\n",
    "while ch<5:\n",
    "    num=int(input(f\"select the number[1-50] ,{5-ch} chances left! \"))\n",
    "    \n",
    "    if(num>50)|(num<1):\n",
    "        print(\"Select the number in given range: \")\n",
    "        continue\n",
    "    ch=ch+1\n",
    "    if (num>correct) & (ch!=5):\n",
    "        print(\"Think of a low number\")\n",
    "    elif (num<correct) & (ch!=5):\n",
    "        print(\"Think of higher number\")\n",
    "    elif num==correct:\n",
    "        print(\"You guessed the number\")\n",
    "        print(f\"The number is :{correct}\")\n",
    "        guess=1\n",
    "        break\n",
    "        \n",
    "if guess==0:\n",
    "    print(\"Out of chances!!!\")\n",
    "    print(f\"The number is:{correct}\")\n",
    "        "
   ]
  },
  {
   "cell_type": "code",
   "execution_count": 5,
   "id": "54b3eff1",
   "metadata": {},
   "outputs": [
    {
     "name": "stdout",
     "output_type": "stream",
     "text": [
      "1\n",
      "2\n",
      "3\n",
      "4\n",
      "[[0, 0, 0], [0, 0, 1], [0, 0, 2], [0, 0, 3], [0, 1, 0], [0, 1, 1], [0, 1, 2], [0, 2, 0], [0, 2, 1], [0, 2, 3], [1, 0, 0], [1, 0, 1], [1, 0, 2], [1, 1, 0], [1, 1, 1], [1, 1, 3], [1, 2, 0], [1, 2, 2], [1, 2, 3]]\n"
     ]
    }
   ],
   "source": [
    "if __name__ == '__main__':\n",
    "    x = int(input())\n",
    "    y = int(input())\n",
    "    z = int(input())\n",
    "    n = int(input())\n",
    "    l=[[i,j,k] for i in range(x+1) for j in range(y+1) for k in range(z+1) if (i+j+k)!=n]\n",
    "    print(l)"
   ]
  },
  {
   "cell_type": "markdown",
   "id": "3d80a6f9",
   "metadata": {},
   "source": [
    "## Q) Solve this problem https://www.hackerrank.com/challenges/python-lists/problem"
   ]
  },
  {
   "cell_type": "code",
   "execution_count": null,
   "id": "7862a437",
   "metadata": {},
   "outputs": [],
   "source": [
    "N = int(input())\n",
    "i=0\n",
    "l=[]\n",
    "while i<N:\n",
    "        comm,*args=input().split()\n",
    "        args = [int(x) for x in args]\n",
    "        if comm=='insert':\n",
    "            l.insert(args[0],args[1])\n",
    "        elif comm=='print':\n",
    "            print(l)\n",
    "        elif comm=='remove':\n",
    "            l.remove(args[0])\n",
    "        elif comm=='append':\n",
    "            l.append(args[0])\n",
    "        elif comm=='sort':\n",
    "            l.sort()\n",
    "        elif comm=='pop':\n",
    "            l.pop()\n",
    "        elif comm=='reverse':\n",
    "            l.reverse()\n",
    "        print(l)    \n",
    "        i+=1"
   ]
  },
  {
   "cell_type": "markdown",
   "id": "9b44b706",
   "metadata": {},
   "source": [
    "5\n",
    "\n",
    "insert 0 1\n",
    "\n",
    "[1]\n",
    "\n",
    "insert 1 3\n",
    "\n",
    "[1, 3]\n",
    "\n",
    "append 4\n",
    "\n",
    "[1, 3, 4]\n",
    "\n",
    "reverse\n",
    "\n",
    "[4, 3, 1]\n",
    "\n",
    "sort\n",
    "\n",
    "[1, 3, 4]"
   ]
  },
  {
   "cell_type": "code",
   "execution_count": null,
   "id": "d46ef217",
   "metadata": {},
   "outputs": [],
   "source": [
    "n = int(input())\n",
    "student_marks = {}\n",
    "for _ in range(n):\n",
    "        name, *line = input().split()\n",
    "        scores = list(map(float, line))\n",
    "        student_marks[name] = scores\n",
    "query_name = input()\n",
    "tot=0.00\n",
    "if query_name in student_marks:\n",
    "    for i in student_marks[query_name]:\n",
    "        tot+=i\n",
    "n1=len(student_marks[query_name])      \n",
    "avg=tot/n1\n",
    "print(\"%.2f\" %avg)       "
   ]
  },
  {
   "cell_type": "markdown",
   "id": "901bdca2",
   "metadata": {},
   "source": [
    "3\n",
    "\n",
    "student1 67 78 90\n",
    "\n",
    "student2 89 78 89\n",
    "\n",
    "student3 99 78 67\n",
    "\n",
    "student2\n",
    "\n",
    "85.33"
   ]
  },
  {
   "cell_type": "code",
   "execution_count": null,
   "id": "bc0ec381",
   "metadata": {},
   "outputs": [],
   "source": [
    "def bubble_sort(arr):\n",
    "    n = len(arr)\n",
    "    \n",
    "    for i in range(n - 1):\n",
    "        for j in range(n - 1 - i):\n",
    "            if arr[j] > arr[j + 1]:\n",
    "                arr[j], arr[j + 1] = arr[j + 1], arr[j]\n",
    "    \n",
    "    return arr\n",
    "\n",
    "\n",
    "my_list = [5, 2, 9, 1, 3]\n",
    "sorted_list = bubble_sort(my_list)\n",
    "print(sorted_list)"
   ]
  },
  {
   "cell_type": "markdown",
   "id": "c56ced36",
   "metadata": {},
   "source": [
    "[1, 2, 3, 5, 9]"
   ]
  },
  {
   "cell_type": "code",
   "execution_count": null,
   "id": "4c5f18ea",
   "metadata": {},
   "outputs": [],
   "source": [
    "def insertion_sort(arr):\n",
    "    n = len(arr)\n",
    "    \n",
    "    for i in range(1, n):\n",
    "        key = arr[i]\n",
    "        j = i - 1\n",
    "        \n",
    "        while j >= 0 and arr[j] > key:\n",
    "            arr[j + 1] = arr[j]\n",
    "            j -= 1\n",
    "        \n",
    "        arr[j + 1] = key\n",
    "    \n",
    "    return arr\n",
    "\n",
    "\n",
    "my_list = [5, 2, 9, 1, 3]\n",
    "sorted_list = insertion_sort(my_list)\n",
    "print(sorted_list)"
   ]
  },
  {
   "cell_type": "markdown",
   "id": "727e338a",
   "metadata": {},
   "source": [
    "[1, 2, 3, 5, 9]"
   ]
  },
  {
   "cell_type": "code",
   "execution_count": null,
   "id": "df1d395c",
   "metadata": {},
   "outputs": [],
   "source": [
    "def selection_sort(arr):\n",
    "    n = len(arr)\n",
    "    \n",
    "    for i in range(n - 1):\n",
    "        min_index = i\n",
    "        \n",
    "        for j in range(i + 1, n):\n",
    "            if arr[j] < arr[min_index]:\n",
    "                min_index = j\n",
    "        \n",
    "        arr[i], arr[min_index] = arr[min_index], arr[i]\n",
    "    \n",
    "    return arr\n",
    "\n",
    "my_list = [5, 2, 9, 1, 3]\n",
    "sorted_list = selection_sort(my_list)\n",
    "print(sorted_list)"
   ]
  },
  {
   "cell_type": "markdown",
   "id": "ca2c133a",
   "metadata": {},
   "source": [
    "[1, 2, 3, 5, 9]"
   ]
  },
  {
   "cell_type": "code",
   "execution_count": null,
   "id": "ab62f72b",
   "metadata": {},
   "outputs": [],
   "source": []
  }
 ],
 "metadata": {
  "kernelspec": {
   "display_name": "Python 3 (ipykernel)",
   "language": "python",
   "name": "python3"
  },
  "language_info": {
   "codemirror_mode": {
    "name": "ipython",
    "version": 3
   },
   "file_extension": ".py",
   "mimetype": "text/x-python",
   "name": "python",
   "nbconvert_exporter": "python",
   "pygments_lexer": "ipython3",
   "version": "3.10.9"
  }
 },
 "nbformat": 4,
 "nbformat_minor": 5
}
