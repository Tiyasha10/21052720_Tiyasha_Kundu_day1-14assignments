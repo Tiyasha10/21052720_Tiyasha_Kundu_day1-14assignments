{
 "cells": [
  {
   "cell_type": "markdown",
   "id": "46e2a078",
   "metadata": {},
   "source": [
    "# DAY 9\n",
    "\n",
    "## Q1) Write a Python program to check whether a number is negative, positive or zero."
   ]
  },
  {
   "cell_type": "code",
   "execution_count": 3,
   "id": "c346981e",
   "metadata": {},
   "outputs": [
    {
     "name": "stdout",
     "output_type": "stream",
     "text": [
      "Enter a number: -90\n",
      "The number is negative.\n"
     ]
    }
   ],
   "source": [
    "number = float(input(\"Enter a number: \"))\n",
    "\n",
    "if number > 0:\n",
    "    print(\"The number is positive.\")\n",
    "elif number < 0:\n",
    "    print(\"The number is negative.\")\n",
    "else:\n",
    "    print(\"The number is zero.\")\n"
   ]
  },
  {
   "cell_type": "markdown",
   "id": "e48e4f64",
   "metadata": {},
   "source": [
    "## Q2) Write a Python program to check whether a number is divisible by 5 and 11 or not."
   ]
  },
  {
   "cell_type": "code",
   "execution_count": 11,
   "id": "185b65d7",
   "metadata": {},
   "outputs": [
    {
     "name": "stdout",
     "output_type": "stream",
     "text": [
      "Enter a number: 55\n",
      "The number is divisible by 5 and 11.\n"
     ]
    }
   ],
   "source": [
    "num = float(input(\"Enter a number: \"))\n",
    "\n",
    "if (num%5==0 and num%11==0):\n",
    "    print(\"The number is divisible by 5 and 11.\")\n",
    "else:\n",
    "    print(\"The number is not divisible.\")\n"
   ]
  },
  {
   "cell_type": "markdown",
   "id": "b3a66ddb",
   "metadata": {},
   "source": [
    "## Q3) Write a Python program to check whether a year is leap year or not."
   ]
  },
  {
   "cell_type": "code",
   "execution_count": 12,
   "id": "56dddcc2",
   "metadata": {},
   "outputs": [
    {
     "name": "stdout",
     "output_type": "stream",
     "text": [
      "Enter a year: 2004\n",
      "The year is a leap year.\n"
     ]
    }
   ],
   "source": [
    "year = int(input(\"Enter a year: \"))\n",
    "\n",
    "if (year % 4 == 0 and year % 100 != 0) or year % 400 == 0:\n",
    "    print(\"The year is a leap year.\")\n",
    "else:\n",
    "    print(\"The year is not a leap year.\")"
   ]
  },
  {
   "cell_type": "markdown",
   "id": "8716becb",
   "metadata": {},
   "source": [
    "## Q4) Write a Python program to check whether a character is alphabet or not."
   ]
  },
  {
   "cell_type": "code",
   "execution_count": 15,
   "id": "e84538b3",
   "metadata": {},
   "outputs": [
    {
     "name": "stdout",
     "output_type": "stream",
     "text": [
      "Enter a character: T\n",
      "The character is an alphabet.\n"
     ]
    }
   ],
   "source": [
    "character = input(\"Enter a character: \")\n",
    "\n",
    "if(character>='a' and character<='z') or (character>='A' and character<='Z'):\n",
    "    print(\"The character is an alphabet.\")\n",
    "else:\n",
    "    print(\"The character is not an alphabet.\")"
   ]
  },
  {
   "cell_type": "markdown",
   "id": "da5ba9b0",
   "metadata": {},
   "source": [
    "## Q5) Write a Python program to input any alphabet and check whether it is vowel or consonant."
   ]
  },
  {
   "cell_type": "code",
   "execution_count": 19,
   "id": "cc3d5810",
   "metadata": {},
   "outputs": [
    {
     "name": "stdout",
     "output_type": "stream",
     "text": [
      "Enter a character: E\n",
      "E is a vowel.\n"
     ]
    }
   ],
   "source": [
    "def is_vowel(character):\n",
    "    vowels = ['a', 'e', 'i', 'o', 'u']\n",
    "    if character.lower() in vowels:\n",
    "        return True\n",
    "    else:\n",
    "        return False\n",
    "        \n",
    "char = input(\"Enter a character: \")\n",
    "if len(char) == 1 and char.isalpha():\n",
    "    if is_vowel(char):\n",
    "        print(f\"{char} is a vowel.\")\n",
    "    else:\n",
    "        print(f\"{char} is a consonant.\")\n",
    "else:\n",
    "    print(\"Please enter a single alphabet.\")"
   ]
  },
  {
   "cell_type": "markdown",
   "id": "779ea025",
   "metadata": {},
   "source": [
    "## Q6) Write a Python program to input any character and check whether it is alphabet, digit or special character."
   ]
  },
  {
   "cell_type": "code",
   "execution_count": 20,
   "id": "f58ae403",
   "metadata": {},
   "outputs": [
    {
     "name": "stdout",
     "output_type": "stream",
     "text": [
      "Enter a character: 4\n",
      "The character is Digit.\n"
     ]
    }
   ],
   "source": [
    "def check_character_type(character):\n",
    "    if character.isalpha():\n",
    "        return \"Alphabet\"\n",
    "    elif character.isdigit():\n",
    "        return \"Digit\"\n",
    "    else:\n",
    "        return \"Special Character\"\n",
    "\n",
    "char = input(\"Enter a character: \")\n",
    "if len(char) == 1:\n",
    "    result = check_character_type(char)\n",
    "    print(f\"The character is {result}.\")\n",
    "else:\n",
    "    print(\"Please enter a single character.\")\n"
   ]
  },
  {
   "cell_type": "markdown",
   "id": "9777577b",
   "metadata": {},
   "source": [
    "## Q7) Write a Python program to check whether a character is uppercase or lowercase alphabet."
   ]
  },
  {
   "cell_type": "code",
   "execution_count": 21,
   "id": "c09a0c24",
   "metadata": {},
   "outputs": [
    {
     "name": "stdout",
     "output_type": "stream",
     "text": [
      "Enter a character: u\n",
      "The character is a lowercase alphabet.\n"
     ]
    }
   ],
   "source": [
    "character = input(\"Enter a character: \")\n",
    "\n",
    "if character.isalpha() and len(character) == 1:\n",
    "    if character.isupper():\n",
    "        print(\"The character is an uppercase alphabet.\")\n",
    "    elif character.islower():\n",
    "        print(\"The character is a lowercase alphabet.\")\n",
    "    else:\n",
    "        print(\"The character is not an alphabet.\")\n",
    "else:\n",
    "    print(\"Invalid input. Please enter a single character.\")\n"
   ]
  },
  {
   "cell_type": "markdown",
   "id": "ede7117e",
   "metadata": {},
   "source": [
    "## Q8) Write a Python program to input week number and print weekday."
   ]
  },
  {
   "cell_type": "code",
   "execution_count": 22,
   "id": "ce6b88fd",
   "metadata": {},
   "outputs": [
    {
     "name": "stdout",
     "output_type": "stream",
     "text": [
      "Enter a week number (1-7): 5\n",
      "Friday\n"
     ]
    }
   ],
   "source": [
    "week_number = int(input(\"Enter a week number (1-7): \"))\n",
    "\n",
    "if week_number == 1:\n",
    "    print(\"Monday\")\n",
    "elif week_number == 2:\n",
    "    print(\"Tuesday\")\n",
    "elif week_number == 3:\n",
    "    print(\"Wednesday\")\n",
    "elif week_number == 4:\n",
    "    print(\"Thursday\")\n",
    "elif week_number == 5:\n",
    "    print(\"Friday\")\n",
    "elif week_number == 6:\n",
    "    print(\"Saturday\")\n",
    "elif week_number == 7:\n",
    "    print(\"Sunday\")\n",
    "else:\n",
    "    print(\"Invalid week number. Please enter a number between 1 and 7.\")\n"
   ]
  },
  {
   "cell_type": "markdown",
   "id": "a84c79f0",
   "metadata": {},
   "source": [
    "## Q9) Write a Python program to input angles of a triangle and check whether triangle is valid or not."
   ]
  },
  {
   "cell_type": "code",
   "execution_count": 24,
   "id": "bcadad6c",
   "metadata": {},
   "outputs": [
    {
     "name": "stdout",
     "output_type": "stream",
     "text": [
      "Enter the first angle: 60\n",
      "Enter the second angle: 60\n",
      "Enter the third angle: 60\n",
      "The triangle is valid.\n"
     ]
    }
   ],
   "source": [
    "angle1 = int(input(\"Enter the first angle: \"))\n",
    "angle2 = int(input(\"Enter the second angle: \"))\n",
    "angle3 = int(input(\"Enter the third angle: \"))\n",
    "if angle1 + angle2 + angle3 == 180:\n",
    "    print(\"The triangle is valid.\")\n",
    "else:\n",
    "    print(\"The triangle is not valid.\")\n"
   ]
  },
  {
   "cell_type": "markdown",
   "id": "29a91116",
   "metadata": {},
   "source": [
    "## Q10) Write a Python program to input all sides of a triangle and check whether triangle is valid or not."
   ]
  },
  {
   "cell_type": "code",
   "execution_count": 26,
   "id": "04a863ac",
   "metadata": {},
   "outputs": [
    {
     "name": "stdout",
     "output_type": "stream",
     "text": [
      "Enter the length of side 1: 33\n",
      "Enter the length of side 2: 45\n",
      "Enter the length of side 3: 20\n",
      "The triangle is valid.\n"
     ]
    }
   ],
   "source": [
    "    side1 = float(input(\"Enter the length of side 1: \"))\n",
    "    side2 = float(input(\"Enter the length of side 2: \"))\n",
    "    side3 = float(input(\"Enter the length of side 3: \"))\n",
    "\n",
    "    if side1 + side2 > side3 and side2 + side3 > side1 and side1 + side3 > side2:\n",
    "        print(\"The triangle is valid.\")\n",
    "    else:\n",
    "        print(\"The triangle is not valid.\")\n"
   ]
  },
  {
   "cell_type": "markdown",
   "id": "86d8e02b",
   "metadata": {},
   "source": [
    "## Q11) Write a Python program to check whether the triangle is equilateral, isosceles or scalene triangle. "
   ]
  },
  {
   "cell_type": "code",
   "execution_count": 30,
   "id": "4fc87a0f",
   "metadata": {},
   "outputs": [
    {
     "name": "stdout",
     "output_type": "stream",
     "text": [
      "Enter the length of side 1: 45\n",
      "Enter the length of side 2: 45\n",
      "Enter the length of side 3: 45\n",
      "The triangle is an equilateral triangle.\n"
     ]
    }
   ],
   "source": [
    "\n",
    "    side1 = float(input(\"Enter the length of side 1: \"))\n",
    "    side2 = float(input(\"Enter the length of side 2: \"))\n",
    "    side3 = float(input(\"Enter the length of side 3: \"))\n",
    "\n",
    "    if side1 == side2 == side3:\n",
    "        print(\"The triangle is an equilateral triangle.\")\n",
    "    elif side1 == side2 or side2 == side3 or side1 == side3:\n",
    "        print(\"The triangle is an isosceles triangle.\")\n",
    "    else:\n",
    "        print(\"The triangle is a scalene triangle.\")"
   ]
  },
  {
   "cell_type": "markdown",
   "id": "2e025b68",
   "metadata": {},
   "source": [
    "## Q12) Write a Python program to input marks of five subjects Physics, Chemistry, Biology, Mathematics and Computer. Calculate percentage and grade according to following:\n",
    "##### Percentage >= 90% : Grade A\n",
    "\n",
    "##### Percentage >= 80% : Grade B\n",
    "\n",
    "##### Percentage >= 70% : Grade C\n",
    "\n",
    "##### Percentage >= 60% : Grade D\n",
    "\n",
    "##### Percentage >= 40% : Grade E\n",
    "\n",
    "##### Percentage < 40% : Grade F"
   ]
  },
  {
   "cell_type": "code",
   "execution_count": 31,
   "id": "a2cfb736",
   "metadata": {},
   "outputs": [
    {
     "name": "stdout",
     "output_type": "stream",
     "text": [
      "Enter the marks obtained in Physics: 88\n",
      "Enter the marks obtained in Chemistry: 45\n",
      "Enter the marks obtained in Biology: 55\n",
      "Enter the marks obtained in Mathematics: 67\n",
      "Enter the marks obtained in Computer: 99\n",
      "Percentage: 70.8%\n",
      "Grade: C\n"
     ]
    }
   ],
   "source": [
    "    physics = float(input(\"Enter the marks obtained in Physics: \"))\n",
    "    chemistry = float(input(\"Enter the marks obtained in Chemistry: \"))\n",
    "    biology = float(input(\"Enter the marks obtained in Biology: \"))\n",
    "    mathematics = float(input(\"Enter the marks obtained in Mathematics: \"))\n",
    "    computer = float(input(\"Enter the marks obtained in Computer: \"))\n",
    "\n",
    "    total_marks = physics + chemistry + biology + mathematics + computer\n",
    "    percentage = (total_marks / 500) * 100\n",
    "\n",
    "    grade = ''\n",
    "    if percentage >= 90:\n",
    "        grade = 'A'\n",
    "    elif percentage >= 80:\n",
    "        grade = 'B'\n",
    "    elif percentage >= 70:\n",
    "        grade = 'C'\n",
    "    elif percentage >= 60:\n",
    "        grade = 'D'\n",
    "    elif percentage >= 40:\n",
    "        grade = 'E'\n",
    "    else:\n",
    "        grade = 'F'\n",
    "\n",
    "    print(f\"Percentage: {percentage}%\")\n",
    "    print(f\"Grade: {grade}\")"
   ]
  },
  {
   "cell_type": "markdown",
   "id": "c6b71639",
   "metadata": {},
   "source": [
    "## Q13) Write a Python program to input basic salary of an employee and calculate its Gross salary according to following:\n",
    "\n",
    "            Basic Salary <= 10000 : HRA = 20%, DA = 80%  \n",
    "\n",
    "            Basic Salary <= 20000 : HRA = 25%, DA = 90%  \n",
    "\n",
    "            Basic Salary > 20000 : HRA = 30%, DA = 95% "
   ]
  },
  {
   "cell_type": "code",
   "execution_count": 38,
   "id": "3e29b2de",
   "metadata": {},
   "outputs": [
    {
     "name": "stdout",
     "output_type": "stream",
     "text": [
      "Enter the basic salary of the employee: 67890\n",
      "Gross Salary: 152752.5\n"
     ]
    }
   ],
   "source": [
    "    basic_salary = float(input(\"Enter the basic salary of the employee: \"))\n",
    "\n",
    "    if basic_salary <= 10000:\n",
    "        hra = 0.2 * basic_salary\n",
    "        da = 0.8 * basic_salary\n",
    "    elif basic_salary <= 20000:\n",
    "        hra = 0.25 * basic_salary\n",
    "        da = 0.9 * basic_salary\n",
    "    else:\n",
    "        hra = 0.3 * basic_salary\n",
    "        da = 0.95 * basic_salary\n",
    "\n",
    "    gross_salary = basic_salary + hra + da\n",
    "\n",
    "    print(f\"Gross Salary: {gross_salary}\")\n"
   ]
  },
  {
   "cell_type": "markdown",
   "id": "46b7521b",
   "metadata": {},
   "source": [
    "## Q14) Write a Python Program to input electricity unit charges and calculate total electricity bill according to the given condition:\n",
    "\n",
    "    For first 50 units Rs. 0.50/unit \n",
    "    For next 100 units Rs. 0.75/unit \n",
    "    For next 100 units Rs. 1.20/unit \n",
    "    For unit above 250 Rs. 1.50/unit \n",
    "    An additional surcharge of 20% is added to the bill \n"
   ]
  },
  {
   "cell_type": "code",
   "execution_count": 39,
   "id": "54f20201",
   "metadata": {},
   "outputs": [
    {
     "name": "stdout",
     "output_type": "stream",
     "text": [
      "Enter the electricity unit charges: 678\n",
      "Total Electricity Bill: Rs. 1034.40\n"
     ]
    }
   ],
   "source": [
    "    unit_charges = float(input(\"Enter the electricity unit charges: \"))\n",
    "\n",
    "    if unit_charges <= 50:\n",
    "        total_bill = unit_charges * 0.50\n",
    "    elif unit_charges <= 150:\n",
    "        total_bill = (50 * 0.50) + ((unit_charges - 50) * 0.75)\n",
    "    elif unit_charges <= 250:\n",
    "        total_bill = (50 * 0.50) + (100 * 0.75) + ((unit_charges - 150) * 1.20)\n",
    "    else:\n",
    "        total_bill = (50 * 0.50) + (100 * 0.75) + (100 * 1.20) + ((unit_charges - 250) * 1.50)\n",
    "\n",
    "    surcharge = total_bill * 0.20\n",
    "    total_bill += surcharge\n",
    "\n",
    "    print(f\"Total Electricity Bill: Rs. {total_bill:.2f}\")\n"
   ]
  }
 ],
 "metadata": {
  "kernelspec": {
   "display_name": "Python 3 (ipykernel)",
   "language": "python",
   "name": "python3"
  },
  "language_info": {
   "codemirror_mode": {
    "name": "ipython",
    "version": 3
   },
   "file_extension": ".py",
   "mimetype": "text/x-python",
   "name": "python",
   "nbconvert_exporter": "python",
   "pygments_lexer": "ipython3",
   "version": "3.10.9"
  }
 },
 "nbformat": 4,
 "nbformat_minor": 5
}
