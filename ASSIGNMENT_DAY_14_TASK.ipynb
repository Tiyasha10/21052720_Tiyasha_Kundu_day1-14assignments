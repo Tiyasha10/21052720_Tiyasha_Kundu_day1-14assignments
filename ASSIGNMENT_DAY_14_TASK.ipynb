{
 "cells": [
  {
   "cell_type": "markdown",
   "id": "0030f180",
   "metadata": {},
   "source": [
    "# DAY 14\n",
    "\n",
    "## Q1) Program to find the sum of digits of a number until the sum is reduced to 1 digit"
   ]
  },
  {
   "cell_type": "code",
   "execution_count": 3,
   "id": "72485189",
   "metadata": {},
   "outputs": [
    {
     "name": "stdout",
     "output_type": "stream",
     "text": [
      "Enter a number: 1234\n",
      "Sum of digits reduced to a single digit: 1\n"
     ]
    }
   ],
   "source": [
    "def get_digit_sum(number):\n",
    "    digit_sum = 0\n",
    "    while number > 0:\n",
    "        digit_sum += number % 10\n",
    "        number //= 10\n",
    "\n",
    "    return digit_sum\n",
    "\n",
    "def reduce_to_single_digit(number):\n",
    "    while number > 9:\n",
    "        number = get_digit_sum(number)\n",
    "\n",
    "    return number\n",
    "\n",
    "number = int(input(\"Enter a number: \"))\n",
    "result = reduce_to_single_digit(number)\n",
    "\n",
    "print(\"Sum of digits reduced to a single digit:\", result)\n"
   ]
  },
  {
   "cell_type": "markdown",
   "id": "ba3f9b49",
   "metadata": {},
   "source": [
    "## Q2) Program to find LCM and HCF of two numbers"
   ]
  },
  {
   "cell_type": "code",
   "execution_count": 4,
   "id": "f9d36ee2",
   "metadata": {},
   "outputs": [
    {
     "name": "stdout",
     "output_type": "stream",
     "text": [
      "Enter first number: 12\n",
      "Enter second number: 20\n",
      "LCM of 12 and 20 is 60\n",
      "HCF of 12 and 20 is 4\n"
     ]
    }
   ],
   "source": [
    "def find_lcm(x, y):\n",
    "    max_num = max(x, y)\n",
    "\n",
    "    while True:\n",
    "        if max_num % x == 0 and max_num % y == 0:\n",
    "            lcm = max_num\n",
    "            break\n",
    "        max_num += 1\n",
    "\n",
    "    return lcm\n",
    "\n",
    "def find_hcf(x, y):\n",
    "    min_num = min(x, y)\n",
    "\n",
    "    while min_num > 0:\n",
    "        if x % min_num == 0 and y % min_num == 0:\n",
    "            hcf = min_num\n",
    "            break\n",
    "        min_num -= 1\n",
    "\n",
    "    return hcf\n",
    "\n",
    "num1 = int(input(\"Enter first number: \"))\n",
    "num2 = int(input(\"Enter second number: \"))\n",
    "\n",
    "lcm = find_lcm(num1, num2)\n",
    "hcf = find_hcf(num1, num2)\n",
    "\n",
    "print(\"LCM of\", num1, \"and\", num2, \"is\", lcm)\n",
    "print(\"HCF of\", num1, \"and\", num2, \"is\", hcf)\n"
   ]
  },
  {
   "cell_type": "markdown",
   "id": "03b30703",
   "metadata": {},
   "source": [
    "## Q3) Write a program to accept any number n and print the cube of all numbers from 1 to n which are divisible by 3. Rewrite the program using a continue statement"
   ]
  },
  {
   "cell_type": "code",
   "execution_count": 5,
   "id": "ddd8d256",
   "metadata": {},
   "outputs": [
    {
     "name": "stdout",
     "output_type": "stream",
     "text": [
      "Enter a number: 3\n",
      "27\n"
     ]
    }
   ],
   "source": [
    "def print_cubes_divisible_by_three(n):\n",
    "    for i in range(1, n+1):\n",
    "        if i % 3 == 0:\n",
    "            print(i ** 3)\n",
    "\n",
    "num = int(input(\"Enter a number: \"))\n",
    "print_cubes_divisible_by_three(num)"
   ]
  },
  {
   "cell_type": "markdown",
   "id": "d396e7ec",
   "metadata": {},
   "source": [
    "## Q4) Write a program to read roll number and marks of 10 students in 3 subjects. The valid range for roll number is 1000-9999, if the roll number entered is not in this range, the user should be asked to enter again. Calculate total marks of only those students who get more than or equal to 40 marks in each subject. Count the number of students whose total is more than 200. Print the roll number of the students who gets the highest total."
   ]
  },
  {
   "cell_type": "code",
   "execution_count": 6,
   "id": "d115bde4",
   "metadata": {
    "scrolled": true
   },
   "outputs": [
    {
     "name": "stdout",
     "output_type": "stream",
     "text": [
      "Enter the roll number for student 1: 1234\n",
      "Enter the marks for subject 1 for student 1: 23\n",
      "Enter the marks for subject 2 for student 1: 34\n",
      "Enter the marks for subject 3 for student 1: 56\n",
      "Enter the roll number for student 2: 2345\n",
      "Enter the marks for subject 1 for student 2: 34\n",
      "Enter the marks for subject 2 for student 2: 45\n",
      "Enter the marks for subject 3 for student 2: 56\n",
      "Enter the roll number for student 3: 4567\n",
      "Enter the marks for subject 1 for student 3: 34\n",
      "Enter the marks for subject 2 for student 3: 45\n",
      "Enter the marks for subject 3 for student 3: 56\n",
      "Enter the roll number for student 4: 6789\n",
      "Enter the marks for subject 1 for student 4: 78\n",
      "Enter the marks for subject 2 for student 4: 89\n",
      "Enter the marks for subject 3 for student 4: 9876\n",
      "Enter the roll number for student 5: 6789\n",
      "Enter the marks for subject 1 for student 5: 89\n",
      "Enter the marks for subject 2 for student 5: 78\n",
      "Enter the marks for subject 3 for student 5: 99\n"
     ]
    },
    {
     "ename": "KeyboardInterrupt",
     "evalue": "Interrupted by user",
     "output_type": "error",
     "traceback": [
      "\u001b[1;31m---------------------------------------------------------------------------\u001b[0m",
      "\u001b[1;31mKeyboardInterrupt\u001b[0m                         Traceback (most recent call last)",
      "Cell \u001b[1;32mIn[6], line 11\u001b[0m\n\u001b[0;32m      9\u001b[0m \u001b[38;5;28;01mfor\u001b[39;00m i \u001b[38;5;129;01min\u001b[39;00m \u001b[38;5;28mrange\u001b[39m(students_count):\n\u001b[0;32m     10\u001b[0m     \u001b[38;5;28;01mwhile\u001b[39;00m \u001b[38;5;28;01mTrue\u001b[39;00m:\n\u001b[1;32m---> 11\u001b[0m         roll_number \u001b[38;5;241m=\u001b[39m \u001b[38;5;28mint\u001b[39m(\u001b[38;5;28;43minput\u001b[39;49m\u001b[43m(\u001b[49m\u001b[38;5;124;43mf\u001b[39;49m\u001b[38;5;124;43m\"\u001b[39;49m\u001b[38;5;124;43mEnter the roll number for student \u001b[39;49m\u001b[38;5;132;43;01m{\u001b[39;49;00m\u001b[43mi\u001b[49m\u001b[38;5;241;43m+\u001b[39;49m\u001b[38;5;241;43m1\u001b[39;49m\u001b[38;5;132;43;01m}\u001b[39;49;00m\u001b[38;5;124;43m: \u001b[39;49m\u001b[38;5;124;43m\"\u001b[39;49m\u001b[43m)\u001b[49m)\n\u001b[0;32m     12\u001b[0m         \u001b[38;5;28;01mif\u001b[39;00m validate_roll_number(roll_number):\n\u001b[0;32m     13\u001b[0m             \u001b[38;5;28;01mbreak\u001b[39;00m\n",
      "File \u001b[1;32m~\\anaconda3\\lib\\site-packages\\ipykernel\\kernelbase.py:1175\u001b[0m, in \u001b[0;36mKernel.raw_input\u001b[1;34m(self, prompt)\u001b[0m\n\u001b[0;32m   1171\u001b[0m \u001b[38;5;28;01mif\u001b[39;00m \u001b[38;5;129;01mnot\u001b[39;00m \u001b[38;5;28mself\u001b[39m\u001b[38;5;241m.\u001b[39m_allow_stdin:\n\u001b[0;32m   1172\u001b[0m     \u001b[38;5;28;01mraise\u001b[39;00m StdinNotImplementedError(\n\u001b[0;32m   1173\u001b[0m         \u001b[38;5;124m\"\u001b[39m\u001b[38;5;124mraw_input was called, but this frontend does not support input requests.\u001b[39m\u001b[38;5;124m\"\u001b[39m\n\u001b[0;32m   1174\u001b[0m     )\n\u001b[1;32m-> 1175\u001b[0m \u001b[38;5;28;01mreturn\u001b[39;00m \u001b[38;5;28;43mself\u001b[39;49m\u001b[38;5;241;43m.\u001b[39;49m\u001b[43m_input_request\u001b[49m\u001b[43m(\u001b[49m\n\u001b[0;32m   1176\u001b[0m \u001b[43m    \u001b[49m\u001b[38;5;28;43mstr\u001b[39;49m\u001b[43m(\u001b[49m\u001b[43mprompt\u001b[49m\u001b[43m)\u001b[49m\u001b[43m,\u001b[49m\n\u001b[0;32m   1177\u001b[0m \u001b[43m    \u001b[49m\u001b[38;5;28;43mself\u001b[39;49m\u001b[38;5;241;43m.\u001b[39;49m\u001b[43m_parent_ident\u001b[49m\u001b[43m[\u001b[49m\u001b[38;5;124;43m\"\u001b[39;49m\u001b[38;5;124;43mshell\u001b[39;49m\u001b[38;5;124;43m\"\u001b[39;49m\u001b[43m]\u001b[49m\u001b[43m,\u001b[49m\n\u001b[0;32m   1178\u001b[0m \u001b[43m    \u001b[49m\u001b[38;5;28;43mself\u001b[39;49m\u001b[38;5;241;43m.\u001b[39;49m\u001b[43mget_parent\u001b[49m\u001b[43m(\u001b[49m\u001b[38;5;124;43m\"\u001b[39;49m\u001b[38;5;124;43mshell\u001b[39;49m\u001b[38;5;124;43m\"\u001b[39;49m\u001b[43m)\u001b[49m\u001b[43m,\u001b[49m\n\u001b[0;32m   1179\u001b[0m \u001b[43m    \u001b[49m\u001b[43mpassword\u001b[49m\u001b[38;5;241;43m=\u001b[39;49m\u001b[38;5;28;43;01mFalse\u001b[39;49;00m\u001b[43m,\u001b[49m\n\u001b[0;32m   1180\u001b[0m \u001b[43m\u001b[49m\u001b[43m)\u001b[49m\n",
      "File \u001b[1;32m~\\anaconda3\\lib\\site-packages\\ipykernel\\kernelbase.py:1217\u001b[0m, in \u001b[0;36mKernel._input_request\u001b[1;34m(self, prompt, ident, parent, password)\u001b[0m\n\u001b[0;32m   1214\u001b[0m             \u001b[38;5;28;01mbreak\u001b[39;00m\n\u001b[0;32m   1215\u001b[0m \u001b[38;5;28;01mexcept\u001b[39;00m \u001b[38;5;167;01mKeyboardInterrupt\u001b[39;00m:\n\u001b[0;32m   1216\u001b[0m     \u001b[38;5;66;03m# re-raise KeyboardInterrupt, to truncate traceback\u001b[39;00m\n\u001b[1;32m-> 1217\u001b[0m     \u001b[38;5;28;01mraise\u001b[39;00m \u001b[38;5;167;01mKeyboardInterrupt\u001b[39;00m(\u001b[38;5;124m\"\u001b[39m\u001b[38;5;124mInterrupted by user\u001b[39m\u001b[38;5;124m\"\u001b[39m) \u001b[38;5;28;01mfrom\u001b[39;00m \u001b[38;5;28mNone\u001b[39m\n\u001b[0;32m   1218\u001b[0m \u001b[38;5;28;01mexcept\u001b[39;00m \u001b[38;5;167;01mException\u001b[39;00m:\n\u001b[0;32m   1219\u001b[0m     \u001b[38;5;28mself\u001b[39m\u001b[38;5;241m.\u001b[39mlog\u001b[38;5;241m.\u001b[39mwarning(\u001b[38;5;124m\"\u001b[39m\u001b[38;5;124mInvalid Message:\u001b[39m\u001b[38;5;124m\"\u001b[39m, exc_info\u001b[38;5;241m=\u001b[39m\u001b[38;5;28;01mTrue\u001b[39;00m)\n",
      "\u001b[1;31mKeyboardInterrupt\u001b[0m: Interrupted by user"
     ]
    }
   ],
   "source": [
    "def validate_roll_number(roll_number):\n",
    "    return 1000 <= roll_number <= 9999\n",
    "\n",
    "students_count = 10\n",
    "students_total_over_200 = 0\n",
    "highest_total = 0\n",
    "highest_total_roll_number = 0\n",
    "total_marks = {}\n",
    "for i in range(students_count):\n",
    "    while True:\n",
    "        roll_number = int(input(f\"Enter the roll number for student {i+1}: \"))\n",
    "        if validate_roll_number(roll_number):\n",
    "            break\n",
    "        else:\n",
    "            print(\"Invalid roll number. Please enter again.\")\n",
    "\n",
    "    marks = []\n",
    "    for j in range(3):\n",
    "        marks.append(int(input(f\"Enter the marks for subject {j+1} for student {i+1}: \")))\n",
    "    total = sum(marks)\n",
    "    if all(mark >= 40 for mark in marks):\n",
    "        total_marks[roll_number] = total\n",
    "\n",
    "        if total > 200:\n",
    "            students_total_over_200 += 1\n",
    "\n",
    "        if total > highest_total:\n",
    "            highest_total = total\n",
    "            highest_total_roll_number = roll_number\n",
    "\n",
    "print(\"Total marks of students who scored 40 or more in each subject:\")\n",
    "for roll_number, total in total_marks.items():\n",
    "    print(f\"Roll Number: {roll_number}, Total Marks: {total}\")\n",
    "print(\"Number of students whose total marks is more than 200:\", students_total_over_200)\n",
    "print(\"Roll Number of the student with the highest total marks:\", highest_total_roll_number)\n",
    "print(\"Highest Total Marks:\", highest_total)\n"
   ]
  },
  {
   "cell_type": "markdown",
   "id": "45ca977d",
   "metadata": {},
   "source": [
    "## Q5) Write a program to input a number and count the digits in it. Use while loop and the program should work correctly for 0 also"
   ]
  },
  {
   "cell_type": "code",
   "execution_count": 16,
   "id": "2a15ca62",
   "metadata": {},
   "outputs": [
    {
     "name": "stdout",
     "output_type": "stream",
     "text": [
      "enter a number 8907\n",
      "4\n"
     ]
    }
   ],
   "source": [
    "num=int(input(\"enter a number \"))\n",
    "if num==0:\n",
    "    ct=1\n",
    "else:\n",
    "    ct=0\n",
    "    while num>0:\n",
    "        ct=ct+1\n",
    "        num//=10\n",
    "print(ct)  "
   ]
  },
  {
   "cell_type": "markdown",
   "id": "594e8bac",
   "metadata": {},
   "source": [
    "## Q6) Write a program to enter a number and find the reverse of that number. Also display the double of the reverse number. (don’t use string magic)"
   ]
  },
  {
   "cell_type": "code",
   "execution_count": 17,
   "id": "5db95525",
   "metadata": {},
   "outputs": [
    {
     "name": "stdout",
     "output_type": "stream",
     "text": [
      "Enter a number: 78\n",
      "Reverse of the number: 87\n",
      "Double of the reverse: 174\n"
     ]
    }
   ],
   "source": [
    "def reverse_number(num):\n",
    "    reverse = 0\n",
    "\n",
    "    while num > 0:\n",
    "        remainder = num % 10\n",
    "        reverse = (reverse * 10) + remainder\n",
    "        num //= 10\n",
    "\n",
    "    return reverse\n",
    "\n",
    "number = int(input(\"Enter a number: \"))\n",
    "\n",
    "reverse = reverse_number(number)\n",
    "\n",
    "double_reverse = reverse * 2\n",
    "\n",
    "print(\"Reverse of the number:\", reverse)\n",
    "print(\"Double of the reverse:\", double_reverse)"
   ]
  },
  {
   "cell_type": "code",
   "execution_count": null,
   "id": "27deb199",
   "metadata": {},
   "outputs": [],
   "source": []
  }
 ],
 "metadata": {
  "kernelspec": {
   "display_name": "Python 3 (ipykernel)",
   "language": "python",
   "name": "python3"
  },
  "language_info": {
   "codemirror_mode": {
    "name": "ipython",
    "version": 3
   },
   "file_extension": ".py",
   "mimetype": "text/x-python",
   "name": "python",
   "nbconvert_exporter": "python",
   "pygments_lexer": "ipython3",
   "version": "3.10.9"
  }
 },
 "nbformat": 4,
 "nbformat_minor": 5
}
