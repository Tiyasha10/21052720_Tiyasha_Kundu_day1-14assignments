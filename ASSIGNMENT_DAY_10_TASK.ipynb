{
 "cells": [
  {
   "cell_type": "markdown",
   "id": "0d301ca3",
   "metadata": {},
   "source": [
    "# DAY10\n",
    "\n",
    "## Q1) Python Program to Check Palindrome Number"
   ]
  },
  {
   "cell_type": "code",
   "execution_count": 1,
   "id": "02a05078",
   "metadata": {},
   "outputs": [
    {
     "name": "stdout",
     "output_type": "stream",
     "text": [
      "Enter a number: 121\n",
      "The number is a palindrome.\n"
     ]
    }
   ],
   "source": [
    "no = int(input(\"Enter a number: \"))\n",
    "nostr = str(no)\n",
    "rvsstr = nostr[::-1]\n",
    "if nostr == rvsstr:\n",
    "    print(\"The number is a palindrome.\")\n",
    "else:\n",
    "    print(\"The number is not a palindrome.\")"
   ]
  },
  {
   "cell_type": "markdown",
   "id": "f6a08ff0",
   "metadata": {},
   "source": [
    "## Q2) Python Program to Print all multiples of 3 and 5 in an Interval"
   ]
  },
  {
   "cell_type": "code",
   "execution_count": 4,
   "id": "bc7b92cc",
   "metadata": {},
   "outputs": [
    {
     "name": "stdout",
     "output_type": "stream",
     "text": [
      "Enter the starting number: 1\n",
      "Enter the ending number: 20\n",
      "Multiples of 3 and 5: [3, 5, 6, 9, 10, 12, 15, 18, 20]\n"
     ]
    }
   ],
   "source": [
    "def print_multiples(start, end):\n",
    "    multiples = []\n",
    "    for num in range(start, end + 1):\n",
    "        if num % 3 == 0 or num % 5 == 0:\n",
    "            multiples.append(num)\n",
    "    return multiples\n",
    "\n",
    "start = int(input(\"Enter the starting number: \"))\n",
    "end = int(input(\"Enter the ending number: \"))\n",
    "result = print_multiples(start, end)\n",
    "print(\"Multiples of 3 and 5:\", result)"
   ]
  },
  {
   "cell_type": "markdown",
   "id": "801665ec",
   "metadata": {},
   "source": [
    "## Q3) Python Program to Find the Factorial of a Number"
   ]
  },
  {
   "cell_type": "code",
   "execution_count": 7,
   "id": "6d4a3c6b",
   "metadata": {},
   "outputs": [
    {
     "name": "stdout",
     "output_type": "stream",
     "text": [
      "Enter a number: 6\n",
      "The factorial of 6 is 720\n"
     ]
    }
   ],
   "source": [
    "num = int(input(\"Enter a number: \"))\n",
    "fact = 1\n",
    "if num < 0:\n",
    "    print(\"Invalid input! Give a positive no.\")\n",
    "elif num == 0:\n",
    "    print(\"The factorial of 0 is 1.\")\n",
    "else:\n",
    "    for i in range(1, num + 1):\n",
    "        fact *= i\n",
    "    print(\"The factorial of\", num, \"is\", fact)"
   ]
  },
  {
   "cell_type": "markdown",
   "id": "262299be",
   "metadata": {},
   "source": [
    "## Q4) Python Program to Print the Fibonacci sequence"
   ]
  },
  {
   "cell_type": "code",
   "execution_count": 8,
   "id": "c39594d3",
   "metadata": {},
   "outputs": [
    {
     "name": "stdout",
     "output_type": "stream",
     "text": [
      "Enter the number of terms: 8\n",
      "Fibonacci Sequence: [0, 1, 1, 2, 3, 5, 8, 13]\n"
     ]
    }
   ],
   "source": [
    "def fibonacci_sequence(n):\n",
    "    sequence = [0, 1]\n",
    "    for i in range(2, n):\n",
    "        next_num = sequence[i-1] + sequence[i-2]\n",
    "        sequence.append(next_num)\n",
    "    return sequence\n",
    "\n",
    "\n",
    "terms = int(input(\"Enter the number of terms: \"))\n",
    "\n",
    "\n",
    "result = fibonacci_sequence(terms)\n",
    "print(\"Fibonacci Sequence:\", result)"
   ]
  },
  {
   "cell_type": "markdown",
   "id": "fcd52005",
   "metadata": {},
   "source": [
    "## Q5) Python Program to Check Armstrong Number"
   ]
  },
  {
   "cell_type": "code",
   "execution_count": 12,
   "id": "4aab1fb5",
   "metadata": {},
   "outputs": [
    {
     "name": "stdout",
     "output_type": "stream",
     "text": [
      "Enter a number: 153\n",
      "153 is an Armstrong number.\n"
     ]
    }
   ],
   "source": [
    "def check_armstrong(num):\n",
    "    sum = 0\n",
    "    temp = num\n",
    "    while temp > 0:\n",
    "        digit = temp % 10\n",
    "        sum += digit ** 3\n",
    "        temp //= 10\n",
    "    if num == sum:\n",
    "        return True\n",
    "    else:\n",
    "        return False\n",
    "num = int(input(\"Enter a number: \"))\n",
    "\n",
    "\n",
    "if check_armstrong(num):\n",
    "    print(f\"{num} is an Armstrong number.\")\n",
    "else:\n",
    "    print(f\"{num} is not an Armstrong number.\")"
   ]
  },
  {
   "cell_type": "code",
   "execution_count": null,
   "id": "771f3889",
   "metadata": {},
   "outputs": [],
   "source": []
  }
 ],
 "metadata": {
  "kernelspec": {
   "display_name": "Python 3 (ipykernel)",
   "language": "python",
   "name": "python3"
  },
  "language_info": {
   "codemirror_mode": {
    "name": "ipython",
    "version": 3
   },
   "file_extension": ".py",
   "mimetype": "text/x-python",
   "name": "python",
   "nbconvert_exporter": "python",
   "pygments_lexer": "ipython3",
   "version": "3.10.9"
  }
 },
 "nbformat": 4,
 "nbformat_minor": 5
}
